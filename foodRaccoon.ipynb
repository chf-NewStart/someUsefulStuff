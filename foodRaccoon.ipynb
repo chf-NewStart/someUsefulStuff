{
  "nbformat": 4,
  "nbformat_minor": 0,
  "metadata": {
    "colab": {
      "provenance": []
    },
    "kernelspec": {
      "name": "python3",
      "display_name": "Python 3"
    },
    "language_info": {
      "name": "python"
    }
  },
  "cells": [
    {
      "cell_type": "markdown",
      "source": [
        "food recommendation\n",
        "\n",
        "github: https://github.com/chf-NewStart/someUsefulStuff/"
      ],
      "metadata": {
        "id": "KfhuGB3e-PF2"
      }
    },
    {
      "cell_type": "markdown",
      "source": [
        "## API Book Keeping"
      ],
      "metadata": {
        "id": "_Q-IUAno9FAX"
      }
    },
    {
      "cell_type": "code",
      "source": [
        "import json\n",
        "import requests\n",
        "\n",
        "# Replace 'your_new_api_key' with your actual API key\n",
        "api_key_data = {\n",
        "    \"yelp_api_key\" : \"your_yelp_api_key\",\n",
        "    \"gmap_api_key\" : \"your_gmap_api_key\",\n",
        "    \"openai_api_key\" : \"your_openai_api_key\"\n",
        "\n",
        "}\n",
        "\n",
        "# Save the API key in a JSON file\n",
        "with open(\"api_key.json\", \"w\") as json_file:\n",
        "    json.dump(api_key_data, json_file)\n",
        "\n",
        "print(\"API key saved to api_key.json\")\n",
        "\n",
        "\n",
        "# Load the API key from the JSON file\n",
        "with open(\"api_key.json\", \"r\") as json_file:\n",
        "    key_data = json.load(json_file)\n",
        "\n",
        "# Get the API key from the dictionary\n",
        "yelp_api_key = key_data['yelp_api_key']\n",
        "gmap_api_key = key_data['gmap_api_key']\n",
        "openai_api_key = key_data['openai_api_key']"
      ],
      "metadata": {
        "colab": {
          "base_uri": "https://localhost:8080/"
        },
        "id": "Pezp3UJq8yrF",
        "outputId": "233e513c-8377-440b-ad6c-9306605f2b52"
      },
      "execution_count": null,
      "outputs": [
        {
          "output_type": "stream",
          "name": "stdout",
          "text": [
            "API key saved to api_key.json\n"
          ]
        }
      ]
    },
    {
      "cell_type": "code",
      "source": [
        "!pip install openai\n"
      ],
      "metadata": {
        "colab": {
          "base_uri": "https://localhost:8080/"
        },
        "id": "7nq1afvbtNBE",
        "outputId": "12436a0d-d081-4a72-ef79-03094f20a7e1"
      },
      "execution_count": null,
      "outputs": [
        {
          "output_type": "stream",
          "name": "stdout",
          "text": [
            "Requirement already satisfied: openai in /usr/local/lib/python3.10/dist-packages (1.52.2)\n",
            "Requirement already satisfied: anyio<5,>=3.5.0 in /usr/local/lib/python3.10/dist-packages (from openai) (3.7.1)\n",
            "Requirement already satisfied: distro<2,>=1.7.0 in /usr/local/lib/python3.10/dist-packages (from openai) (1.9.0)\n",
            "Requirement already satisfied: httpx<1,>=0.23.0 in /usr/local/lib/python3.10/dist-packages (from openai) (0.27.2)\n",
            "Requirement already satisfied: jiter<1,>=0.4.0 in /usr/local/lib/python3.10/dist-packages (from openai) (0.6.1)\n",
            "Requirement already satisfied: pydantic<3,>=1.9.0 in /usr/local/lib/python3.10/dist-packages (from openai) (2.9.2)\n",
            "Requirement already satisfied: sniffio in /usr/local/lib/python3.10/dist-packages (from openai) (1.3.1)\n",
            "Requirement already satisfied: tqdm>4 in /usr/local/lib/python3.10/dist-packages (from openai) (4.66.6)\n",
            "Requirement already satisfied: typing-extensions<5,>=4.11 in /usr/local/lib/python3.10/dist-packages (from openai) (4.12.2)\n",
            "Requirement already satisfied: idna>=2.8 in /usr/local/lib/python3.10/dist-packages (from anyio<5,>=3.5.0->openai) (3.10)\n",
            "Requirement already satisfied: exceptiongroup in /usr/local/lib/python3.10/dist-packages (from anyio<5,>=3.5.0->openai) (1.2.2)\n",
            "Requirement already satisfied: certifi in /usr/local/lib/python3.10/dist-packages (from httpx<1,>=0.23.0->openai) (2024.8.30)\n",
            "Requirement already satisfied: httpcore==1.* in /usr/local/lib/python3.10/dist-packages (from httpx<1,>=0.23.0->openai) (1.0.6)\n",
            "Requirement already satisfied: h11<0.15,>=0.13 in /usr/local/lib/python3.10/dist-packages (from httpcore==1.*->httpx<1,>=0.23.0->openai) (0.14.0)\n",
            "Requirement already satisfied: annotated-types>=0.6.0 in /usr/local/lib/python3.10/dist-packages (from pydantic<3,>=1.9.0->openai) (0.7.0)\n",
            "Requirement already satisfied: pydantic-core==2.23.4 in /usr/local/lib/python3.10/dist-packages (from pydantic<3,>=1.9.0->openai) (2.23.4)\n"
          ]
        }
      ]
    },
    {
      "cell_type": "markdown",
      "source": [
        "## Use LLM to translate desired flavor into types of restaurants"
      ],
      "metadata": {
        "id": "VFEruNeSNfeV"
      }
    },
    {
      "cell_type": "code",
      "source": [
        "import openai\n",
        "\n",
        "# Set up OpenAI API key\n",
        "openai.api_key = openai_api_key\n",
        "\n",
        "def refine_search_query(user_input):\n",
        "    # Use the LLM to interpret the user’s flavor/taste preferences\n",
        "    response = openai.chat.completions.create(\n",
        "        model=\"gpt-4\",\n",
        "         messages=[\n",
        "            {\"role\": \"system\", \"content\": \"You are an assistant who helps refine food-related search queries based on user preferences.\"},\n",
        "            {\"role\": \"user\", \"content\": f\"Given the user preference '{user_input}', suggest two specific type of food or cuisine that can be used in Yelp or Google Maps searches.\"}\n",
        "        ],\n",
        "        max_tokens=50,\n",
        "    )\n",
        "    # Extract the suggested query from the LLM response\n",
        "    print(response)\n",
        "    refined_query = response.choices[0].message.content.strip()\n",
        "    return refined_query\n"
      ],
      "metadata": {
        "id": "rgf0Kvz9tOUh"
      },
      "execution_count": null,
      "outputs": []
    },
    {
      "cell_type": "code",
      "source": [
        "# Accept user input for flavor or taste preference\n",
        "user_input = input(\"What kind of flavor or taste are you craving? \")\n",
        "\n",
        "# Process the input with LLM to refine the search term\n",
        "refined_query = refine_search_query(user_input)\n",
        "print(f\"Refined Query from LLM: {refined_query}\")\n"
      ],
      "metadata": {
        "colab": {
          "base_uri": "https://localhost:8080/"
        },
        "id": "IDcmVY_QtnHs",
        "outputId": "c57c9db0-38ff-437a-d9c1-4cf8f4da295b"
      },
      "execution_count": null,
      "outputs": [
        {
          "output_type": "stream",
          "name": "stdout",
          "text": [
            "What kind of flavor or taste are you craving? spicy and sour\n",
            "ChatCompletion(id='chatcmpl-APcnXURLLN2ijLjOWGaHLF8iSm0kW', choices=[Choice(finish_reason='stop', index=0, logprobs=None, message=ChatCompletionMessage(content='1. \"Szechuan cuisine\"\\n2. \"Thai Tom Yum soup\"', refusal=None, role='assistant', audio=None, function_call=None, tool_calls=None))], created=1730670703, model='gpt-4-0613', object='chat.completion', service_tier=None, system_fingerprint=None, usage=CompletionUsage(completion_tokens=17, prompt_tokens=56, total_tokens=73, completion_tokens_details=CompletionTokensDetails(audio_tokens=None, reasoning_tokens=0), prompt_tokens_details=PromptTokensDetails(audio_tokens=None, cached_tokens=0)))\n",
            "Refined Query from LLM: 1. \"Szechuan cuisine\"\n",
            "2. \"Thai Tom Yum soup\"\n"
          ]
        }
      ]
    },
    {
      "cell_type": "markdown",
      "source": [
        "## Use yelp and google maps and generate recommendations"
      ],
      "metadata": {
        "id": "A4lLbqKuOIfh"
      }
    },
    {
      "cell_type": "code",
      "source": [
        "\n",
        "import requests\n",
        "\n",
        "# Yelp search function\n",
        "def search_yelp(query, location=\"Toronto\"):\n",
        "    yelp_url = \"https://api.yelp.com/v3/businesses/search\"\n",
        "    headers = {\"Authorization\": f\"Bearer {yelp_api_key}\"}\n",
        "    params = {\"term\": query, \"location\": location, \"limit\": 5}\n",
        "    response = requests.get(yelp_url, headers=headers, params=params)\n",
        "    return response.json()\n",
        "\n",
        "# Google Maps search function\n",
        "def search_google_maps(query, location=\"Toronto\"):\n",
        "    gmap_url = \"https://maps.googleapis.com/maps/api/place/textsearch/json\"\n",
        "    params = {\"query\": f\"{query} restaurants in {location}\", \"key\": gmap_api_key}\n",
        "    response = requests.get(gmap_url, params=params)\n",
        "    return response.json()\n",
        "\n",
        "\n",
        "def format_gmap_results(gmap_data):\n",
        "    recommendations = []\n",
        "    if gmap_data and 'results' in gmap_data:\n",
        "        for place in gmap_data['results']:\n",
        "            recommendations.append({\n",
        "                'Name': place.get('name'),\n",
        "                'Rating': place.get('rating'),\n",
        "                'Reviews': place.get('user_ratings_total', 'N/A'),\n",
        "                'Address': place.get('formatted_address'),\n",
        "                'Google Maps URL': f\"https://www.google.com/maps/place/?q=place_id:{place['place_id']}\"\n",
        "            })\n",
        "    return recommendations\n",
        "\n",
        "# Perform searches with the refined query\n",
        "\n",
        "\n",
        "# Format Yelp results with error handling\n",
        "def format_yelp_results(yelp_data):\n",
        "    recommendations = []\n",
        "    if yelp_data and 'businesses' in yelp_data:  # Ensure data is valid\n",
        "        for business in yelp_data['businesses']:\n",
        "            recommendations.append({\n",
        "                'Name': business.get('name'),\n",
        "                'Rating': business.get('rating'),\n",
        "                'Reviews': business.get('review_count'),\n",
        "                'Categories': ', '.join([cat['title'] for cat in business.get('categories', [])]),\n",
        "                'Address': ', '.join(business['location']['display_address']),\n",
        "                'Phone': business.get('phone', 'N/A'),\n",
        "                'URL': business.get('url')\n",
        "            })\n",
        "    else:\n",
        "        print(\"No valid Yelp data to format.\")\n",
        "    return recommendations\n",
        "\n",
        "# Sample usage with error handling\n",
        "yelp_results = search_yelp(refined_query)\n",
        "yelp_recommendations = format_yelp_results(yelp_results)\n",
        "\n",
        "gmap_results = search_google_maps(refined_query)\n",
        "gmap_recommendations = format_gmap_results(gmap_results)\n"
      ],
      "metadata": {
        "id": "nMpXpOcTtsC4"
      },
      "execution_count": null,
      "outputs": []
    },
    {
      "cell_type": "markdown",
      "source": [
        "## Combine and phrase the recommendations"
      ],
      "metadata": {
        "id": "fx3Xq1P8OOvV"
      }
    },
    {
      "cell_type": "code",
      "source": [
        "# Assuming yelp_recommendations and gmap_recommendations are already defined\n",
        "\n",
        "# Combine the results from Yelp and Google Maps\n",
        "combined_recommendations = yelp_recommendations + gmap_recommendations\n",
        "\n",
        "# Now, display the recommendations\n",
        "for i, recommendation in enumerate(combined_recommendations, start=1):\n",
        "    print(f\"Recommendation #{i}:\")\n",
        "    print(f\"Name: {recommendation['Name']}\")\n",
        "    print(f\"Rating: {recommendation['Rating']} ({recommendation['Reviews']} reviews)\")\n",
        "    print(f\"Categories/Type: {recommendation.get('Categories', 'N/A')}\")\n",
        "    print(f\"Address: {recommendation['Address']}\")\n",
        "    print(f\"Phone: {recommendation.get('Phone', 'N/A')}\")\n",
        "    print(f\"URL: {recommendation.get('URL', recommendation.get('Google Maps URL', 'N/A'))}\")\n",
        "    print(\"=\" * 50)\n"
      ],
      "metadata": {
        "id": "Dl223Qx7ttaB",
        "colab": {
          "base_uri": "https://localhost:8080/"
        },
        "outputId": "c4261c2a-3a22-4eb4-e847-fc3460b28b16"
      },
      "execution_count": null,
      "outputs": [
        {
          "output_type": "stream",
          "name": "stdout",
          "text": [
            "Recommendation #1:\n",
            "Name: A Szechuan Restaurant\n",
            "Rating: 4.4 (452 reviews)\n",
            "Categories/Type: N/A\n",
            "Address: 440 Spadina Ave., Toronto, ON M5T 2G8, Canada\n",
            "Phone: N/A\n",
            "URL: https://www.google.com/maps/place/?q=place_id:ChIJg5xXzUQ1K4gR9NHKVt3hTRc\n",
            "==================================================\n",
            "Recommendation #2:\n",
            "Name: Si Lom Thai Bistro (ร้านสีลม โตรอนโต้)\n",
            "Rating: 4.4 (1447 reviews)\n",
            "Categories/Type: N/A\n",
            "Address: 534 Church St, Toronto, ON M4Y 2E1, Canada\n",
            "Phone: N/A\n",
            "URL: https://www.google.com/maps/place/?q=place_id:ChIJv7nEMbM0K4gRo7GUIuPuBI8\n",
            "==================================================\n",
            "Recommendation #3:\n",
            "Name: Sichuan Garden Restaurant\n",
            "Rating: 3.8 (257 reviews)\n",
            "Categories/Type: N/A\n",
            "Address: 359 Spadina Ave., Toronto, ON M5T 2G3, Canada\n",
            "Phone: N/A\n",
            "URL: https://www.google.com/maps/place/?q=place_id:ChIJ3RWlYcE0K4gRSyRlCGVEtgE\n",
            "==================================================\n",
            "Recommendation #4:\n",
            "Name: Szechuan Noodle Bowl\n",
            "Rating: 4.7 (230 reviews)\n",
            "Categories/Type: N/A\n",
            "Address: 526 Bloor St W, Toronto, ON M5S 1Y3, Canada\n",
            "Phone: N/A\n",
            "URL: https://www.google.com/maps/place/?q=place_id:ChIJ98vtos81K4gRrVFihB1kCd4\n",
            "==================================================\n",
            "Recommendation #5:\n",
            "Name: Yueh Tung Restaurant\n",
            "Rating: 4.3 (1809 reviews)\n",
            "Categories/Type: N/A\n",
            "Address: 126 Elizabeth St, Toronto, ON M5G 1P5, Canada\n",
            "Phone: N/A\n",
            "URL: https://www.google.com/maps/place/?q=place_id:ChIJdxTA6Ms0K4gRuA6W01i6NII\n",
            "==================================================\n",
            "Recommendation #6:\n",
            "Name: 劉公烤魚 Papa Spicy\n",
            "Rating: 4.4 (1588 reviews)\n",
            "Categories/Type: N/A\n",
            "Address: 339 Spadina Ave., Toronto, ON M5T 2G3, Canada\n",
            "Phone: N/A\n",
            "URL: https://www.google.com/maps/place/?q=place_id:ChIJl9Na58M0K4gR3LamX8xMbJM\n",
            "==================================================\n",
            "Recommendation #7:\n",
            "Name: SO FAMOUS 真有名\n",
            "Rating: 4.5 (343 reviews)\n",
            "Categories/Type: N/A\n",
            "Address: 366 Bloor St W, Toronto, ON M5S 1X2, Canada\n",
            "Phone: N/A\n",
            "URL: https://www.google.com/maps/place/?q=place_id:ChIJO6plLFw1K4gRDKhJwbpenrg\n",
            "==================================================\n",
            "Recommendation #8:\n",
            "Name: Swatow Restaurant\n",
            "Rating: 4.3 (2763 reviews)\n",
            "Categories/Type: N/A\n",
            "Address: 309 Spadina Ave., Toronto, ON M5T 1H1, Canada\n",
            "Phone: N/A\n",
            "URL: https://www.google.com/maps/place/?q=place_id:ChIJxdcPkcM0K4gRtZB3BsjQutg\n",
            "==================================================\n",
            "Recommendation #9:\n",
            "Name: DaiLo\n",
            "Rating: 4.6 (1563 reviews)\n",
            "Categories/Type: N/A\n",
            "Address: 503 College St, Toronto, ON M6G 1A5, Canada\n",
            "Phone: N/A\n",
            "URL: https://www.google.com/maps/place/?q=place_id:ChIJU3vOl-40K4gR9POTxsWYDyc\n",
            "==================================================\n",
            "Recommendation #10:\n",
            "Name: Shi MiaoDao Yunnan Rice Noodle (Downtown)十秒到云南过桥米线\n",
            "Rating: 4.3 (344 reviews)\n",
            "Categories/Type: N/A\n",
            "Address: 318 Spadina Ave., Toronto, ON M5T 2E7, Canada\n",
            "Phone: N/A\n",
            "URL: https://www.google.com/maps/place/?q=place_id:ChIJgYe5ifw1K4gRHVpKsd-cZLY\n",
            "==================================================\n",
            "Recommendation #11:\n",
            "Name: Szechuan Express\n",
            "Rating: 3.1 (80 reviews)\n",
            "Categories/Type: N/A\n",
            "Address: 100 King St W, Toronto, ON M5X 1B8, Canada\n",
            "Phone: N/A\n",
            "URL: https://www.google.com/maps/place/?q=place_id:ChIJX1xkJS3L1IkRlYWI1F35AY8\n",
            "==================================================\n",
            "Recommendation #12:\n",
            "Name: Not Just Noodles\n",
            "Rating: 3.6 (764 reviews)\n",
            "Categories/Type: N/A\n",
            "Address: 570 Yonge St, Toronto, ON M4Y 1Z3, Canada\n",
            "Phone: N/A\n",
            "URL: https://www.google.com/maps/place/?q=place_id:ChIJT_3hwLM0K4gRip2gw8zY7Gw\n",
            "==================================================\n",
            "Recommendation #13:\n",
            "Name: Lee Chen Asian Bistro\n",
            "Rating: 4.2 (1335 reviews)\n",
            "Categories/Type: N/A\n",
            "Address: 214 King St W, Toronto, ON M5H 3S6, Canada\n",
            "Phone: N/A\n",
            "URL: https://www.google.com/maps/place/?q=place_id:ChIJ8x0mndE0K4gRKi4ZwLCJMgg\n",
            "==================================================\n",
            "Recommendation #14:\n",
            "Name: Szechuan Express\n",
            "Rating: 2.4 (244 reviews)\n",
            "Categories/Type: N/A\n",
            "Address: 260 Yonge St, Toronto, ON M5B 2H1, Canada\n",
            "Phone: N/A\n",
            "URL: https://www.google.com/maps/place/?q=place_id:ChIJ23ozOss0K4gRSypk85H4Ws0\n",
            "==================================================\n",
            "Recommendation #15:\n",
            "Name: Bangkok Garden\n",
            "Rating: 4.1 (1133 reviews)\n",
            "Categories/Type: N/A\n",
            "Address: 18 Elm St, Toronto, ON M5G 1G7, Canada\n",
            "Phone: N/A\n",
            "URL: https://www.google.com/maps/place/?q=place_id:ChIJB9AZYQbWmoARZSwsIzSmY9c\n",
            "==================================================\n",
            "Recommendation #16:\n",
            "Name: R&D\n",
            "Rating: 4.4 (1473 reviews)\n",
            "Categories/Type: N/A\n",
            "Address: 241 Spadina Ave., Toronto, ON M5T 3A8, Canada\n",
            "Phone: N/A\n",
            "URL: https://www.google.com/maps/place/?q=place_id:ChIJ-QiloMQ0K4gRh8RG0fb9Jt4\n",
            "==================================================\n",
            "Recommendation #17:\n",
            "Name: Szechuan Gourmet Restaurant\n",
            "Rating: 4.1 (634 reviews)\n",
            "Categories/Type: N/A\n",
            "Address: 1033 Steeles Ave W, North York, ON M2R 2S9, Canada\n",
            "Phone: N/A\n",
            "URL: https://www.google.com/maps/place/?q=place_id:ChIJ2SVX4cktK4gR1HotGzitvL4\n",
            "==================================================\n",
            "Recommendation #18:\n",
            "Name: Szechuan Szechuan\n",
            "Rating: 3.8 (866 reviews)\n",
            "Categories/Type: N/A\n",
            "Address: 1 Bass Pro Mills Dr, Vaughan, ON L4K 5W4, Canada\n",
            "Phone: N/A\n",
            "URL: https://www.google.com/maps/place/?q=place_id:ChIJtROFLj4vK4gRKUSYzwfLtTA\n",
            "==================================================\n",
            "Recommendation #19:\n",
            "Name: Tender Trap Restaurant\n",
            "Rating: 4.2 (313 reviews)\n",
            "Categories/Type: N/A\n",
            "Address: 580 Parliament St, Toronto, ON M4X 1P8, Canada\n",
            "Phone: N/A\n",
            "URL: https://www.google.com/maps/place/?q=place_id:ChIJzzVzE1DL1IkRfUVklBHFnEs\n",
            "==================================================\n",
            "Recommendation #20:\n",
            "Name: Lee Chen Asian Bistro\n",
            "Rating: 4.1 (854 reviews)\n",
            "Categories/Type: N/A\n",
            "Address: 813 Yonge St, Toronto, ON M4W 2G8, Canada\n",
            "Phone: N/A\n",
            "URL: https://www.google.com/maps/place/?q=place_id:ChIJFzjujK40K4gRjTwmJfPKaec\n",
            "==================================================\n"
          ]
        }
      ]
    },
    {
      "cell_type": "code",
      "source": [
        "import pandas as pd\n",
        "\n",
        "# Convert combined recommendations to a DataFrame\n",
        "df = pd.DataFrame(combined_recommendations)\n",
        "\n",
        "# Save as CSV file\n",
        "df.to_csv(\"combined_recommendations.csv\", index=False)\n",
        "\n",
        "print(\"Recommendations saved to combined_recommendations.csv\")\n"
      ],
      "metadata": {
        "colab": {
          "base_uri": "https://localhost:8080/"
        },
        "id": "wcYdKpmXCD_7",
        "outputId": "82c3f729-cd00-46c9-979a-8064cf8b817f"
      },
      "execution_count": null,
      "outputs": [
        {
          "output_type": "stream",
          "name": "stdout",
          "text": [
            "Recommendations saved to combined_recommendations.csv\n"
          ]
        }
      ]
    }
  ]
}