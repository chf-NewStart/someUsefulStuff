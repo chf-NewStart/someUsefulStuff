{
  "nbformat": 4,
  "nbformat_minor": 0,
  "metadata": {
    "colab": {
      "provenance": []
    },
    "kernelspec": {
      "name": "python3",
      "display_name": "Python 3"
    },
    "language_info": {
      "name": "python"
    }
  },
  "cells": [
    {
      "cell_type": "code",
      "execution_count": 19,
      "metadata": {
        "colab": {
          "base_uri": "https://localhost:8080/",
          "height": 0
        },
        "id": "5-Bc7YIkyPqd",
        "outputId": "37812b73-c769-4c80-a1a6-a95e5183fdc2"
      },
      "outputs": [
        {
          "output_type": "stream",
          "name": "stdout",
          "text": [
            "\u001b[33mWARNING: Skipping dopamine-rl as it is not installed.\u001b[0m\u001b[33m\n",
            "\u001b[0mFound existing installation: gym 0.25.2\n",
            "Uninstalling gym-0.25.2:\n",
            "  Successfully uninstalled gym-0.25.2\n",
            "Requirement already satisfied: numpy==1.23.5 in /usr/local/lib/python3.11/dist-packages (1.23.5)\n",
            "Requirement already satisfied: torch==2.0.1 in /usr/local/lib/python3.11/dist-packages (2.0.1)\n",
            "Requirement already satisfied: matplotlib==3.7.1 in /usr/local/lib/python3.11/dist-packages (3.7.1)\n",
            "Requirement already satisfied: tqdm==4.65.0 in /usr/local/lib/python3.11/dist-packages (4.65.0)\n",
            "Collecting gym==0.25.2\n",
            "  Using cached gym-0.25.2-py3-none-any.whl\n",
            "Requirement already satisfied: filelock in /usr/local/lib/python3.11/dist-packages (from torch==2.0.1) (3.17.0)\n",
            "Requirement already satisfied: typing-extensions in /usr/local/lib/python3.11/dist-packages (from torch==2.0.1) (4.12.2)\n",
            "Requirement already satisfied: sympy in /usr/local/lib/python3.11/dist-packages (from torch==2.0.1) (1.13.1)\n",
            "Requirement already satisfied: networkx in /usr/local/lib/python3.11/dist-packages (from torch==2.0.1) (3.4.2)\n",
            "Requirement already satisfied: jinja2 in /usr/local/lib/python3.11/dist-packages (from torch==2.0.1) (3.1.5)\n",
            "Requirement already satisfied: nvidia-cuda-nvrtc-cu11==11.7.99 in /usr/local/lib/python3.11/dist-packages (from torch==2.0.1) (11.7.99)\n",
            "Requirement already satisfied: nvidia-cuda-runtime-cu11==11.7.99 in /usr/local/lib/python3.11/dist-packages (from torch==2.0.1) (11.7.99)\n",
            "Requirement already satisfied: nvidia-cuda-cupti-cu11==11.7.101 in /usr/local/lib/python3.11/dist-packages (from torch==2.0.1) (11.7.101)\n",
            "Requirement already satisfied: nvidia-cudnn-cu11==8.5.0.96 in /usr/local/lib/python3.11/dist-packages (from torch==2.0.1) (8.5.0.96)\n",
            "Requirement already satisfied: nvidia-cublas-cu11==11.10.3.66 in /usr/local/lib/python3.11/dist-packages (from torch==2.0.1) (11.10.3.66)\n",
            "Requirement already satisfied: nvidia-cufft-cu11==10.9.0.58 in /usr/local/lib/python3.11/dist-packages (from torch==2.0.1) (10.9.0.58)\n",
            "Requirement already satisfied: nvidia-curand-cu11==10.2.10.91 in /usr/local/lib/python3.11/dist-packages (from torch==2.0.1) (10.2.10.91)\n",
            "Requirement already satisfied: nvidia-cusolver-cu11==11.4.0.1 in /usr/local/lib/python3.11/dist-packages (from torch==2.0.1) (11.4.0.1)\n",
            "Requirement already satisfied: nvidia-cusparse-cu11==11.7.4.91 in /usr/local/lib/python3.11/dist-packages (from torch==2.0.1) (11.7.4.91)\n",
            "Requirement already satisfied: nvidia-nccl-cu11==2.14.3 in /usr/local/lib/python3.11/dist-packages (from torch==2.0.1) (2.14.3)\n",
            "Requirement already satisfied: nvidia-nvtx-cu11==11.7.91 in /usr/local/lib/python3.11/dist-packages (from torch==2.0.1) (11.7.91)\n",
            "Requirement already satisfied: triton==2.0.0 in /usr/local/lib/python3.11/dist-packages (from torch==2.0.1) (2.0.0)\n",
            "Requirement already satisfied: contourpy>=1.0.1 in /usr/local/lib/python3.11/dist-packages (from matplotlib==3.7.1) (1.3.1)\n",
            "Requirement already satisfied: cycler>=0.10 in /usr/local/lib/python3.11/dist-packages (from matplotlib==3.7.1) (0.12.1)\n",
            "Requirement already satisfied: fonttools>=4.22.0 in /usr/local/lib/python3.11/dist-packages (from matplotlib==3.7.1) (4.56.0)\n",
            "Requirement already satisfied: kiwisolver>=1.0.1 in /usr/local/lib/python3.11/dist-packages (from matplotlib==3.7.1) (1.4.8)\n",
            "Requirement already satisfied: packaging>=20.0 in /usr/local/lib/python3.11/dist-packages (from matplotlib==3.7.1) (24.2)\n",
            "Requirement already satisfied: pillow>=6.2.0 in /usr/local/lib/python3.11/dist-packages (from matplotlib==3.7.1) (11.1.0)\n",
            "Requirement already satisfied: pyparsing>=2.3.1 in /usr/local/lib/python3.11/dist-packages (from matplotlib==3.7.1) (3.2.1)\n",
            "Requirement already satisfied: python-dateutil>=2.7 in /usr/local/lib/python3.11/dist-packages (from matplotlib==3.7.1) (2.8.2)\n",
            "Requirement already satisfied: cloudpickle>=1.2.0 in /usr/local/lib/python3.11/dist-packages (from gym==0.25.2) (3.1.1)\n",
            "Requirement already satisfied: gym_notices>=0.0.4 in /usr/local/lib/python3.11/dist-packages (from gym==0.25.2) (0.0.8)\n",
            "Requirement already satisfied: setuptools in /usr/local/lib/python3.11/dist-packages (from nvidia-cublas-cu11==11.10.3.66->torch==2.0.1) (75.1.0)\n",
            "Requirement already satisfied: wheel in /usr/local/lib/python3.11/dist-packages (from nvidia-cublas-cu11==11.10.3.66->torch==2.0.1) (0.45.1)\n",
            "Requirement already satisfied: cmake in /usr/local/lib/python3.11/dist-packages (from triton==2.0.0->torch==2.0.1) (3.31.4)\n",
            "Requirement already satisfied: lit in /usr/local/lib/python3.11/dist-packages (from triton==2.0.0->torch==2.0.1) (18.1.8)\n",
            "Requirement already satisfied: six>=1.5 in /usr/local/lib/python3.11/dist-packages (from python-dateutil>=2.7->matplotlib==3.7.1) (1.17.0)\n",
            "Requirement already satisfied: MarkupSafe>=2.0 in /usr/local/lib/python3.11/dist-packages (from jinja2->torch==2.0.1) (3.0.2)\n",
            "Requirement already satisfied: mpmath<1.4,>=1.1.0 in /usr/local/lib/python3.11/dist-packages (from sympy->torch==2.0.1) (1.3.0)\n",
            "Installing collected packages: gym\n",
            "Successfully installed gym-0.25.2\n",
            "Requirement already satisfied: pygame==2.3.0 in /usr/local/lib/python3.11/dist-packages (2.3.0)\n"
          ]
        }
      ],
      "source": [
        "# First remove conflicting packages\n",
        "!pip uninstall -y dopamine-rl gym\n",
        "\n",
        "# Then install specific compatible versions\n",
        "!pip install numpy==1.23.5 torch==2.0.1 matplotlib==3.7.1 tqdm==4.65.0 gym==0.25.2\n",
        "\n",
        "# For visualization extensions\n",
        "!pip install pygame==2.3.0"
      ]
    },
    {
      "cell_type": "markdown",
      "source": [
        "From the UTTT implementation, we can borrow the dual-head architecture and improved convolutional layers:"
      ],
      "metadata": {
        "id": "hv2NGs071WKJ"
      }
    },
    {
      "cell_type": "code",
      "source": [
        "# Core Game Implementation\n",
        "import numpy as np\n",
        "import random\n",
        "import matplotlib\n",
        "\n",
        "\n",
        "# Neural Network/RL Components\n",
        "import torch\n",
        "import torch.nn as nn\n",
        "import torch.optim as optim\n",
        "import torch.nn.functional as F\n",
        "\n",
        "# Visualization\n",
        "import matplotlib.pyplot as plt\n",
        "from IPython.display import clear_output\n",
        "\n",
        "# Progress Tracking\n",
        "from tqdm import tqdm\n",
        "\n",
        "# Game Environment Utilities\n",
        "from copy import deepcopy\n",
        "from collections import deque"
      ],
      "metadata": {
        "id": "HXlcWClp1etP"
      },
      "execution_count": 20,
      "outputs": []
    },
    {
      "cell_type": "code",
      "source": [
        "# Fix missing parenthesis and formatting\n",
        "def verify_environment():\n",
        "    print(f\"PyTorch version: {torch.__version__}\")\n",
        "    print(f\"CUDA available: {torch.cuda.is_available()}\")  # Added missing )\n",
        "    print(f\"NumPy version: {np.__version__}\")\n",
        "    print(f\"Matplotlib version: {matplotlib.__version__}\")\n",
        "\n",
        "verify_environment()"
      ],
      "metadata": {
        "colab": {
          "base_uri": "https://localhost:8080/",
          "height": 0
        },
        "id": "qEiT-H3d5Ami",
        "outputId": "567d8d29-4738-4719-d0f3-656c1752e008"
      },
      "execution_count": 21,
      "outputs": [
        {
          "output_type": "stream",
          "name": "stdout",
          "text": [
            "PyTorch version: 2.0.1+cu117\n",
            "CUDA available: False\n",
            "NumPy version: 1.23.5\n",
            "Matplotlib version: 3.7.1\n"
          ]
        }
      ]
    },
    {
      "cell_type": "code",
      "source": [
        "class BoopNet(nn.Module):\n",
        "    def __init__(self, grid_size=5):\n",
        "        super(BoopNet, self).__init__()\n",
        "        self.conv = nn.Sequential(\n",
        "            nn.Conv2d(4, 128, 3, padding=1),\n",
        "            nn.BatchNorm2d(128),\n",
        "            nn.ReLU(),\n",
        "            nn.Conv2d(128, 128, 3, padding=1),\n",
        "            nn.BatchNorm2d(128),\n",
        "            nn.ReLU()\n",
        "        )\n",
        "        self.policy_head = nn.Sequential(\n",
        "            nn.Conv2d(128, 2, 1),\n",
        "            nn.BatchNorm2d(2),\n",
        "            nn.ReLU(),\n",
        "            nn.Flatten(),\n",
        "            nn.Linear(2 * grid_size * grid_size, grid_size**2)\n",
        "        )\n",
        "        self.value_head = nn.Sequential(\n",
        "            nn.Conv2d(128, 1, 1),\n",
        "            nn.BatchNorm2d(1),\n",
        "            nn.ReLU(),\n",
        "            nn.Flatten(),\n",
        "            nn.Linear(grid_size * grid_size, 256),\n",
        "            nn.ReLU(),\n",
        "            nn.Linear(256, 1),\n",
        "            nn.Tanh()\n",
        "        )\n",
        "\n",
        "    def forward(self, x):\n",
        "        x = self.conv(x)\n",
        "        policy = self.policy_head(x)\n",
        "        value = self.value_head(x)\n",
        "        return policy, value"
      ],
      "metadata": {
        "id": "8oD2UspNyT7h"
      },
      "execution_count": 22,
      "outputs": []
    },
    {
      "cell_type": "code",
      "source": [
        "class Node:\n",
        "    def __init__(self, game_state, parent=None):\n",
        "        self.game_state = game_state\n",
        "        self.parent = parent\n",
        "        self.children = []\n",
        "        self.wins = 0\n",
        "        self.visits = 0\n",
        "        self.untried_actions = game_state.get_valid_moves()\n",
        "\n",
        "class MCTS:\n",
        "    def __init__(self, agent, simulations=200):\n",
        "        self.agent = agent\n",
        "        self.simulations = simulations\n",
        "\n",
        "    def search(self, initial_state):\n",
        "        root = Node(initial_state)\n",
        "\n",
        "        for _ in range(self.simulations):\n",
        "            node = root\n",
        "            state = initial_state.copy()\n",
        "\n",
        "            # Selection\n",
        "            while node.untried_actions == [] and node.children != []:\n",
        "                node = self.select_child(node)\n",
        "                state.step(node.action)\n",
        "\n",
        "            # Expansion\n",
        "            if node.untried_actions:\n",
        "                action = random.choice(node.untried_actions)\n",
        "                state.step(action)\n",
        "                node = node.add_child(state, action)\n",
        "\n",
        "            # Simulation\n",
        "            with torch.no_grad():\n",
        "                policy, value = self.agent.model(torch.FloatTensor(state.board).unsqueeze(0).unsqueeze(0))\n",
        "\n",
        "            # Backpropagation\n",
        "            while node:\n",
        "                node.visits += 1\n",
        "                node.wins += value.item()\n",
        "                node = node.parent\n",
        "\n",
        "        return max(root.children, key=lambda c: c.visits).action"
      ],
      "metadata": {
        "id": "_BhuluIJ1c42"
      },
      "execution_count": 23,
      "outputs": []
    },
    {
      "cell_type": "code",
      "source": [
        "class AlphaBoopAgent:\n",
        "    def __init__(self, grid_size=5):\n",
        "        self.grid_size = grid_size\n",
        "        self.model = BoopNet(grid_size)\n",
        "        self.optimizer = optim.Adam(self.model.parameters(), weight_decay=1e-4)\n",
        "        self.mcts = MCTS(self)\n",
        "        self.memory = deque(maxlen=10000)\n",
        "\n",
        "    def self_play(self, num_games=100):\n",
        "        for _ in range(num_games):\n",
        "            game = BoopGame()\n",
        "            memory_episode = []\n",
        "\n",
        "            while not game.game_over:\n",
        "                action = self.mcts.search(game.get_state())\n",
        "                memory_episode.append((\n",
        "                    game.get_state().copy(),\n",
        "                    action,\n",
        "                    game.current_player\n",
        "                ))\n",
        "                game.step(action)\n",
        "\n",
        "            self.process_episode(memory_episode, game.winner)\n",
        "\n",
        "    def process_episode(self, memory, winner):\n",
        "        for state, action, player in memory:\n",
        "            reward = 0\n",
        "            if player == winner:\n",
        "                reward += 10\n",
        "            else:\n",
        "                reward -= 5\n",
        "\n",
        "            # Additional rewards\n",
        "            if self.check_graduation(state):\n",
        "                reward += 3\n",
        "            if self.check_cat_placement(state, action):\n",
        "                reward += 1\n",
        "\n",
        "            self.memory.append((state, action, reward))\n",
        "\n",
        "    def train(self, batch_size=512, epochs=10):\n",
        "        states, actions, rewards = zip(*random.sample(self.memory, batch_size))\n",
        "\n",
        "        states = torch.FloatTensor(np.array(states)).unsqueeze(1)\n",
        "        actions = torch.LongTensor([self._action_to_index(a) for a in actions])\n",
        "        rewards = torch.FloatTensor(rewards)\n",
        "\n",
        "        for _ in range(epochs):\n",
        "            policy_pred, value_pred = self.model(states)\n",
        "\n",
        "            policy_loss = F.cross_entropy(policy_pred, actions)\n",
        "            value_loss = F.mse_loss(value_pred.squeeze(), rewards)\n",
        "            loss = policy_loss + value_loss\n",
        "\n",
        "            self.optimizer.zero_grad()\n",
        "            loss.backward()\n",
        "            nn.utils.clip_grad_norm_(self.model.parameters(), 0.5)\n",
        "            self.optimizer.step()"
      ],
      "metadata": {
        "id": "8eGKMIEq3Eb0"
      },
      "execution_count": 24,
      "outputs": []
    },
    {
      "cell_type": "code",
      "source": [
        "def augment_state(state):\n",
        "    augmented = []\n",
        "    for k in range(4):\n",
        "        rotated = np.rot90(state, k)\n",
        "        augmented.append(rotated)\n",
        "        augmented.append(np.fliplr(rotated))\n",
        "    return augmented"
      ],
      "metadata": {
        "id": "l7Km-iuO4D9-"
      },
      "execution_count": 25,
      "outputs": []
    },
    {
      "cell_type": "code",
      "source": [
        "def train_progressive(agent):\n",
        "    # Phase 1: Basic positioning\n",
        "    agent.self_play(num_games=1000)\n",
        "    agent.train(batch_size=256)\n",
        "\n",
        "    # Phase 2: Strategic patterns\n",
        "    agent.mcts.simulations = 500\n",
        "    agent.self_play(num_games=5000)\n",
        "    agent.train(batch_size=1024)\n",
        "\n",
        "    # Phase 3: Expert refinement\n",
        "    agent.mcts.simulations = 1000\n",
        "    agent.self_play(num_games=10000)\n",
        "    agent.train(batch_size=2048)"
      ],
      "metadata": {
        "id": "dD6ZyVy_4SRN"
      },
      "execution_count": 26,
      "outputs": []
    },
    {
      "cell_type": "code",
      "source": [
        "class Evaluator:\n",
        "    def __init__(self, agent):\n",
        "        self.agent = agent\n",
        "        self.base_agents = {\n",
        "            'random': RandomAgent(),\n",
        "            'greedy': GreedyAgent()\n",
        "        }\n",
        "\n",
        "    def benchmark(self, num_games=100):\n",
        "        results = {}\n",
        "        for name, opponent in self.base_agents.items():\n",
        "            wins = 0\n",
        "            for _ in range(num_games):\n",
        "                game = BoopGame()\n",
        "                while not game.game_over:\n",
        "                    if game.current_player == 1:\n",
        "                        action = self.agent.mcts.search(game.get_state())\n",
        "                    else:\n",
        "                        action = opponent.act(game)\n",
        "                    game.step(action)\n",
        "                if game.winner == 1:\n",
        "                    wins += 1\n",
        "            results[name] = wins / num_games\n",
        "        return results"
      ],
      "metadata": {
        "id": "qv33P-Ls4T_o"
      },
      "execution_count": 27,
      "outputs": []
    },
    {
      "cell_type": "code",
      "source": [
        "class BoopGame:\n",
        "    def __init__(self, size=8):\n",
        "        self.size = size\n",
        "        # 3-layer board: [0] = player 1 kittens, [1] = player 1 cats, [2] = player 2 kittens, [3] = player 2 cats\n",
        "        self.board = np.zeros((4, size, size), dtype=int)\n",
        "        self.pool = {\n",
        "            1: {\"kittens\": 8, \"cats\": 0},\n",
        "            2: {\"kittens\": 8, \"cats\": 0}\n",
        "        }\n",
        "        self.current_player = 1\n",
        "        self.winner = None\n",
        "        self.game_over = False\n",
        "\n",
        "    def get_valid_moves(self, is_cat=False):\n",
        "        # Valid moves depend on pool and empty spaces\n",
        "        if is_cat and self.pool[self.current_player][\"cats\"] < 1:\n",
        "            return []\n",
        "        return np.argwhere(np.sum(self.board, axis=0) == 0).tolist()"
      ],
      "metadata": {
        "id": "uc5txCmB7Et_"
      },
      "execution_count": 28,
      "outputs": []
    },
    {
      "cell_type": "code",
      "source": [
        "def apply_boop(self, row, col, is_cat):\n",
        "    directions = [(-1, -1), (-1, 0), (-1, 1),\n",
        "                  (0, -1),          (0, 1),\n",
        "                  (1, -1),  (1, 0), (1, 1)]\n",
        "\n",
        "    for dr, dc in directions:\n",
        "        r, c = row + dr, col + dc\n",
        "        if 0 <= r < self.size and 0 <= c < self.size:\n",
        "            # Check if piece can be booped (cats can't be booped by kittens)\n",
        "            for layer in range(4):\n",
        "                if self.board[layer, r, c] == 1:\n",
        "                    if (is_cat or layer % 2 == 0):  # Cats can boop anything, kittens only boop kittens\n",
        "                        new_r, new_c = r + dr, c + dc\n",
        "                        if 0 <= new_r < self.size and 0 <= new_c < self.size:\n",
        "                            self._move_piece(layer, r, c, new_r, new_c)\n",
        "                        else:\n",
        "                            self._return_to_pool(layer, r, c)\n",
        "\n",
        "def _move_piece(self, layer, old_r, old_c, new_r, new_c):\n",
        "    # Handle collisions and chain reactions\n",
        "    if np.sum(self.board[:, new_r, new_c]) == 0:\n",
        "        self.board[layer, new_r, new_c] = 1\n",
        "        self.board[layer, old_r, old_c] = 0"
      ],
      "metadata": {
        "id": "NDiezL7G-Ofq"
      },
      "execution_count": 29,
      "outputs": []
    },
    {
      "cell_type": "code",
      "source": [
        "def check_graduation(self):\n",
        "    # Check all rows, columns, diagonals for 3 in a line\n",
        "    for player in [1, 2]:\n",
        "        kitten_layer = 0 if player == 1 else 2\n",
        "        mask = self.board[kitten_layer]\n",
        "        lines = self.find_lines(mask)\n",
        "\n",
        "        if lines:\n",
        "            # Remove kittens and add cats to pool\n",
        "            self.pool[player][\"kittens\"] += 3\n",
        "            self.pool[player][\"cats\"] += 3\n",
        "            self.remove_kittens(lines)\n",
        "            return True\n",
        "    return False\n",
        "\n",
        "def check_win(self):\n",
        "    # Check for 3 cats in a line or all cats on board\n",
        "    for player in [1, 2]:\n",
        "        cat_layer = 1 if player == 1 else 3\n",
        "        if self.find_lines(self.board[cat_layer], length=3):\n",
        "            return player\n",
        "        if np.sum(self.board[cat_layer]) == 8:\n",
        "            return player\n",
        "    return None"
      ],
      "metadata": {
        "id": "QNtM2vS0-SGZ"
      },
      "execution_count": 30,
      "outputs": []
    },
    {
      "cell_type": "code",
      "source": [
        "class RandomAgent:\n",
        "    def act(self, game):\n",
        "        return random.choice(game.get_valid_moves())\n",
        "\n",
        "class GreedyAgent:\n",
        "    def act(self, game):\n",
        "        # Implement simple heuristic-based agent\n",
        "        valid_moves = game.get_valid_moves()\n",
        "        return max(valid_moves, key=lambda m: self.evaluate_move(game, m))\n",
        "\n",
        "    def evaluate_move(self, game, move):\n",
        "        # Add position evaluation logic\n",
        "        return 0  # Placeholder"
      ],
      "metadata": {
        "id": "vDeXPXPx7GVX"
      },
      "execution_count": 31,
      "outputs": []
    },
    {
      "cell_type": "code",
      "source": [
        "device = torch.device(\"cuda\" if torch.cuda.is_available() else \"cpu\")\n",
        "print(f\"Using device: {device}\")\n",
        "\n",
        "class BoopNet(nn.Module):\n",
        "    def __init__(self):\n",
        "        super().__init__()\n",
        "        self.conv = nn.Sequential(\n",
        "            nn.Conv2d(4, 128, 3, padding=1),  # 4 input channels\n",
        "            nn.BatchNorm2d(128),\n",
        "            nn.ReLU(),\n",
        "            nn.Conv2d(128, 128, 3, padding=1),\n",
        "            nn.BatchNorm2d(128),\n",
        "            nn.ReLU()\n",
        "        )\n",
        "        self.policy_head = nn.Sequential(\n",
        "            nn.Conv2d(128, 2, 1),\n",
        "            nn.Flatten(),\n",
        "            nn.Linear(2*8*8, 8*8)\n",
        "        )\n",
        "        self.value_head = nn.Sequential(\n",
        "            nn.Conv2d(128, 1, 1),\n",
        "            nn.Flatten(),\n",
        "            nn.Linear(8*8, 1),\n",
        "            nn.Tanh()\n",
        "        )\n",
        "\n",
        "    def forward(self, x):\n",
        "        x = self.conv(x)\n",
        "        policy = self.policy_head(x)\n",
        "        value = self.value_head(x)\n",
        "        return policy, value"
      ],
      "metadata": {
        "colab": {
          "base_uri": "https://localhost:8080/",
          "height": 0
        },
        "id": "gJYwcwwE7IFo",
        "outputId": "dc532e9f-858b-423d-9070-e6b9c4490e89"
      },
      "execution_count": 32,
      "outputs": [
        {
          "output_type": "stream",
          "name": "stdout",
          "text": [
            "Using device: cpu\n"
          ]
        }
      ]
    },
    {
      "cell_type": "code",
      "source": [
        "def test_boop_mechanics():\n",
        "    game = BoopGame(size=3)\n",
        "    # Place piece at (1,1) and verify booping\n",
        "    game.step((1, 1, False))  # Kitten placement\n",
        "    assert game.board[0, 1, 1] == 1\n",
        "    # Add adjacent piece and test boop\n",
        "    game.current_player = 2\n",
        "    game.step((0, 0, False))\n",
        "    assert game.board[2, 0, 0] == 0  # Should be booped off"
      ],
      "metadata": {
        "id": "tqI_VbFB-kh1"
      },
      "execution_count": 33,
      "outputs": []
    },
    {
      "cell_type": "code",
      "source": [
        "def plot_board(game):\n",
        "    fig, ax = plt.subplots()\n",
        "    ax.matshow(game.board[0] - game.board[2] + 2*(game.board[1] - game.board[3]))\n",
        "    plt.show()"
      ],
      "metadata": {
        "id": "IDoFimKm-nxH"
      },
      "execution_count": 34,
      "outputs": []
    },
    {
      "cell_type": "code",
      "source": [
        "def train():\n",
        "    # Phase 1: Basic placement (no cats)\n",
        "    agent.self_play(num_games=1000, use_cats=False)\n",
        "\n",
        "    # Phase 2: Introduce graduation\n",
        "    agent.self_play(num_games=5000)\n",
        "\n",
        "    # Phase 3: Full rules\n",
        "    agent.mcts.simulations = 1000\n",
        "    agent.self_play(num_games=10000)"
      ],
      "metadata": {
        "id": "WNlp6qGw-p1I"
      },
      "execution_count": 35,
      "outputs": []
    },
    {
      "cell_type": "code",
      "source": [
        "training_config = {\n",
        "    'episodes': 10000,\n",
        "    'batch_size': 512,\n",
        "    'learning_rate': 0.001,\n",
        "    'gamma': 0.99,\n",
        "    'tau': 0.005,  # For soft updates\n",
        "    'memory_size': 100000\n",
        "}"
      ],
      "metadata": {
        "id": "yVm30TY67J7D"
      },
      "execution_count": 36,
      "outputs": []
    }
  ]
}